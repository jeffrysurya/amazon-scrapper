{
 "cells": [
  {
   "cell_type": "code",
   "execution_count": 1,
   "metadata": {},
   "outputs": [],
   "source": [
    "import ssl\n",
    "import requests\n",
    "import time\n",
    "import pandas as pd\n",
    "import csv\n",
    "from lxml import html\n",
    "import os\n",
    "import pickle"
   ]
  },
  {
   "cell_type": "code",
   "execution_count": 2,
   "metadata": {},
   "outputs": [],
   "source": [
    "def scrape_reviews(asins):\n",
    "    ratings_dict = {}\n",
    "    reviews_list = []\n",
    "    reviews_df = pd.DataFrame()\n",
    "    user_agent = 'Mozilla/5.0 (Windows NT 10.0; Win64; x64) AppleWebKit/537.36 (KHTML, like Gecko) Chrome/75.0.3770.100 Safari/537.36'\n",
    "    headers = {'User-Agent' : user_agent}\n",
    "    XPATH_REVIEWS = '//div[@data-hook=\"review\"]'\n",
    "    XPATH_REVIEW_RATING = './/i[@data-hook=\"review-star-rating\"]//text()'\n",
    "    XPATH_REVIEW_HEADER = './/a[@data-hook=\"review-title\"]//span[@class]//text()'\n",
    "    XPATH_REVIEW_AUTHOR = './/div[@class=\"a-profile-content\"]//text()'\n",
    "    XPATH_REVIEW_DATE = './/span[@data-hook=\"review-date\"]//text()'\n",
    "    XPATH_REVIEW_BODY = './/span[@data-hook=\"review-body\"]//span[@class]//text()'\n",
    "    XPATH_REVIEW_HELPFUL = './/span[@data-hook=\"helpful-vote-statement\"]//text()'\n",
    "    \n",
    "    p_num = 1\n",
    "    for asin in asins:\n",
    "        while True:\n",
    "#avp_only_reviews =  for only purchase the product\n",
    "#all_reviews = for all review even user that not purchase the product\n",
    "            review = ('avp_only_reviews')\n",
    "            print ('Scraping review page nr. {}'.format(p_num))\n",
    "            url = 'https://www.amazon.com/product-reviews/' + asin + '?pageNumber=' + str(p_num) + '&sortBy=recent' + '&ie=UTF8' + '&reviewerType=' + (review)\n",
    "            print(url)\n",
    "            page = requests.get(url, headers=headers)\n",
    "            \n",
    "            page_response = page.text.encode('utf-8')\n",
    "            \n",
    "            parser = html.fromstring(page_response)\n",
    "            reviews = parser.xpath(XPATH_REVIEWS)\n",
    "            if not len(reviews) > 0:\n",
    "                break\n",
    "            for review in reviews:\n",
    "                raw_review_author = review.xpath(XPATH_REVIEW_AUTHOR)\n",
    "                raw_review_rating = review.xpath(XPATH_REVIEW_RATING)\n",
    "                raw_review_header = review.xpath(XPATH_REVIEW_HEADER)\n",
    "                raw_review_date = review.xpath(XPATH_REVIEW_DATE)\n",
    "                raw_review_body = review.xpath(XPATH_REVIEW_BODY)\n",
    "                raw_review_helpful = review.xpath(XPATH_REVIEW_HELPFUL)\n",
    "                \n",
    "                review_dict = {\n",
    "                    'review_text': raw_review_body,\n",
    "                    'review_posted_date': raw_review_date,\n",
    "                    'review_header': raw_review_header,\n",
    "                    'review_rating': raw_review_rating,\n",
    "                    'review_helpful': raw_review_helpful,\n",
    "                    'review_author': raw_review_author\n",
    "                }\n",
    "                reviews_df = reviews_df.append(review_dict, ignore_index=True)\n",
    "            p_num += 1\n",
    "            if p_num == 495 ++ 1:\n",
    "                break\n",
    "        return reviews_df"
   ]
  },
  {
   "cell_type": "code",
   "execution_count": 3,
   "metadata": {},
   "outputs": [
    {
     "name": "stdout",
     "output_type": "stream",
     "text": [
      "Scraping reviews\n",
      "Scraping review page nr. 1\n",
      "https://www.amazon.com/product-reviews/B07CZMMQPM?pageNumber=1&sortBy=recent&ie=UTF8&reviewerType=avp_only_reviews\n",
      "Scraped 0 reviews\n",
      "Saving reviews to disk\n"
     ]
    }
   ],
   "source": [
    "filename = \"pass\"\n",
    "filenamepickle = 'ipad.pickle'\n",
    "filenamejson = 'ipad.json'\n",
    "filenamecsv = 'ipad.csv'\n",
    "\n",
    "asins = ['B07CZMMQPM'] # Apple iPad (Wi-Fi, 32GB) - Gold (Latest Model)\n",
    "\n",
    "if os.path.isfile(filename):\n",
    "    print ('Loading reviews from disk')\n",
    "    reviews_df = pd.read_pickle(filename)\n",
    "    print ('Loaded {} reviews'.format(len(reviews_df)))\n",
    "else:\n",
    "    print ('Scraping reviews')\n",
    "    reviews_df = scrape_reviews(asins)\n",
    "    print ('Scraped {} reviews'.format(len(reviews_df)))\n",
    "    print ('Saving reviews to disk')\n",
    "    reviews_df.to_json(filenamejson)\n",
    "    reviews_df.to_pickle(filenamepickle)\n",
    "    reviews_df.to_csv(filenamecsv)"
   ]
  },
  {
   "cell_type": "code",
   "execution_count": null,
   "metadata": {},
   "outputs": [],
   "source": [
    "#reviews_df= pd.read_json(filenamejson_biasa)\n",
    "reviews_df.head()"
   ]
  },
  {
   "cell_type": "code",
   "execution_count": null,
   "metadata": {},
   "outputs": [],
   "source": [
    "for col in reviews_df.columns:\n",
    "    reviews_df[col] = reviews_df[col].apply(lambda x: '\\n'.join(x))\n",
    "\n",
    "reviews_df['review_helpful'] = (reviews_df['review_helpful']\n",
    "                                .str.replace('One', '1')\n",
    "                                .str.replace(r'[^0-9]', ''))\n",
    "reviews_df['review_helpful'].loc[reviews_df['review_helpful'] == ''] = '0'\n",
    "reviews_df['review_helpful'] = reviews_df['review_helpful'].astype(int)\n",
    "\n",
    "reviews_df['review_posted_date'] = pd.to_datetime(reviews_df['review_posted_date']\n",
    "                                                  .str.strip('on'))\n",
    "\n",
    "reviews_df['review_rating'] = reviews_df['review_rating'].str.strip('out of 5 stars').astype(float)\n",
    "reviews_df.loc[reviews_df['review_rating'] == 0, 'review_rating'] = 5\n",
    "\n",
    "reviews_df['review_length'] = reviews_df['review_text'].apply(lambda x: len(x))\n",
    "\n",
    "reviews_df.drop_duplicates(inplace=True)\n",
    "reviews_df.index = pd.RangeIndex(start=1, stop =len(reviews_df) + 1, step=1)"
   ]
  },
  {
   "cell_type": "code",
   "execution_count": null,
   "metadata": {},
   "outputs": [],
   "source": [
    "reviews_df"
   ]
  },
  {
   "cell_type": "code",
   "execution_count": null,
   "metadata": {},
   "outputs": [],
   "source": [
    "reviews_df.to_csv(\"s9_processed.csv\")\n",
    "reviews_df.to_json(\"s9_processed.json\")\n",
    "reviews_df.to_pickle(\"s9_processed.pickle\")"
   ]
  },
  {
   "cell_type": "code",
   "execution_count": null,
   "metadata": {},
   "outputs": [],
   "source": [
    "#gak kepake\n",
    "#reviews_df.to_json(filenamejson_index, orient='index')\n",
    "#    reviews_df.to_json(filenamejson_split, orient='split')\n",
    "#    reviews_df.to_json(filenamejson_records, orient='records')\n",
    "#    reviews_df.to_json(filenamejson_index, orient='index')\n",
    "#    reviews_df.to_json(filenamejson_columns, orient='columns')\n",
    "#filenamejson_index = 's8_index.json'\n",
    "#filenamejson_split = 's8_split.json'\n",
    "#filenamejson_records = 's8_records.json'\n",
    "#filenamejson_index = 's8_index.json'\n",
    "#filenamejson_columns = 's8_columns.json'\n",
    "#filenamejson_values = 's8_values.json'\n",
    "#filenamejson_table = 's8_table.json'\n",
    "#filenamejson_biasa = 's8_biasa.json'"
   ]
  },
  {
   "cell_type": "code",
   "execution_count": null,
   "metadata": {},
   "outputs": [],
   "source": [
    "reviews_df= pd.read_pickle(\"ipad.pickle\")\n",
    "reviews_df.head(100+1)"
   ]
  },
  {
   "cell_type": "code",
   "execution_count": null,
   "metadata": {},
   "outputs": [],
   "source": [
    "for col in reviews_df.columns:\n",
    "    reviews_df[col] = reviews_df[col].apply(lambda x: '\\n'.join(x))\n",
    "\n",
    "reviews_df['review_helpful'] = (reviews_df['review_helpful']\n",
    "                                .str.replace('One', '1')\n",
    "                                .str.replace(r'[^0-9]', ''))\n",
    "reviews_df['review_helpful'].loc[reviews_df['review_helpful'] == ''] = '0'\n",
    "reviews_df['review_helpful'] = reviews_df['review_helpful'].astype(int)\n",
    "\n",
    "reviews_df['review_posted_date'] = pd.to_datetime(reviews_df['review_posted_date']\n",
    "                                                  .str.strip('on'))\n",
    "\n",
    "reviews_df['review_rating'] = reviews_df['review_rating'].str.strip('out of 5 stars').astype(float)\n",
    "reviews_df.loc[reviews_df['review_rating'] == 0, 'review_rating'] = 5\n",
    "\n",
    "reviews_df['review_length'] = reviews_df['review_text'].apply(lambda x: len(x))\n",
    "\n",
    "reviews_df.drop_duplicates(inplace=True)\n",
    "reviews_df.index = pd.RangeIndex(start=1, stop =len(reviews_df) + 1, step=1)"
   ]
  },
  {
   "cell_type": "code",
   "execution_count": null,
   "metadata": {},
   "outputs": [],
   "source": [
    "reviews_df.to_pickle(\"ipad_processed.pickle\")\n",
    "reviews_df.to_csv(\"ipad_processed.txt\")\n"
   ]
  },
  {
   "cell_type": "code",
   "execution_count": null,
   "metadata": {},
   "outputs": [],
   "source": [
    "reviews_df.head(100)"
   ]
  },
  {
   "cell_type": "code",
   "execution_count": null,
   "metadata": {},
   "outputs": [],
   "source": []
  }
 ],
 "metadata": {
  "kernelspec": {
   "display_name": "Python 3",
   "language": "python",
   "name": "python3"
  },
  "language_info": {
   "codemirror_mode": {
    "name": "ipython",
    "version": 3
   },
   "file_extension": ".py",
   "mimetype": "text/x-python",
   "name": "python",
   "nbconvert_exporter": "python",
   "pygments_lexer": "ipython3",
   "version": "3.7.4"
  }
 },
 "nbformat": 4,
 "nbformat_minor": 4
}
